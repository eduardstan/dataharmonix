{
 "cells": [
  {
   "cell_type": "code",
   "execution_count": 2,
   "metadata": {},
   "outputs": [
    {
     "data": {
      "application/vnd.jupyter.widget-view+json": {
       "model_id": "f71a8b29e7df4395be9878cc2eb390e6",
       "version_major": 2,
       "version_minor": 0
      },
      "text/plain": [
       "VBox(children=(Output(), VBox(children=(Button(description='Add Node', style=ButtonStyle()), Button(descriptio…"
      ]
     },
     "metadata": {},
     "output_type": "display_data"
    },
    {
     "ename": "KeyError",
     "evalue": "'id'",
     "output_type": "error",
     "traceback": [
      "\u001b[0;31m---------------------------------------------------------------------------\u001b[0m",
      "\u001b[0;31mKeyError\u001b[0m                                  Traceback (most recent call last)",
      "\u001b[1;32m/home/edu/.python/dataharmonix/dataharmonix/notebooks/ipywidgets_demo.ipynb Cell 1\u001b[0m line \u001b[0;36m3\n\u001b[1;32m     <a href='vscode-notebook-cell:/home/edu/.python/dataharmonix/dataharmonix/notebooks/ipywidgets_demo.ipynb#W0sZmlsZQ%3D%3D?line=10'>11</a>\u001b[0m function_config \u001b[39m=\u001b[39m {\n\u001b[1;32m     <a href='vscode-notebook-cell:/home/edu/.python/dataharmonix/dataharmonix/notebooks/ipywidgets_demo.ipynb#W0sZmlsZQ%3D%3D?line=11'>12</a>\u001b[0m     \u001b[39m\"\u001b[39m\u001b[39mname\u001b[39m\u001b[39m\"\u001b[39m: \u001b[39m\"\u001b[39m\u001b[39mArithmeticAddOperation\u001b[39m\u001b[39m\"\u001b[39m,\n\u001b[1;32m     <a href='vscode-notebook-cell:/home/edu/.python/dataharmonix/dataharmonix/notebooks/ipywidgets_demo.ipynb#W0sZmlsZQ%3D%3D?line=12'>13</a>\u001b[0m     \u001b[39m\"\u001b[39m\u001b[39mdescription\u001b[39m\u001b[39m\"\u001b[39m: \u001b[39m\"\u001b[39m\u001b[39mAdds a constant to data\u001b[39m\u001b[39m\"\u001b[39m,\n\u001b[0;32m   (...)\u001b[0m\n\u001b[1;32m     <a href='vscode-notebook-cell:/home/edu/.python/dataharmonix/dataharmonix/notebooks/ipywidgets_demo.ipynb#W0sZmlsZQ%3D%3D?line=27'>28</a>\u001b[0m     \u001b[39m\"\u001b[39m\u001b[39mdependencies\u001b[39m\u001b[39m\"\u001b[39m: []\n\u001b[1;32m     <a href='vscode-notebook-cell:/home/edu/.python/dataharmonix/dataharmonix/notebooks/ipywidgets_demo.ipynb#W0sZmlsZQ%3D%3D?line=28'>29</a>\u001b[0m }\n\u001b[1;32m     <a href='vscode-notebook-cell:/home/edu/.python/dataharmonix/dataharmonix/notebooks/ipywidgets_demo.ipynb#W0sZmlsZQ%3D%3D?line=30'>31</a>\u001b[0m node \u001b[39m=\u001b[39m PipelineNode(json\u001b[39m.\u001b[39mdumps(function_config), {\u001b[39m\"\u001b[39m\u001b[39mconstant\u001b[39m\u001b[39m\"\u001b[39m: \u001b[39m5.0\u001b[39m})\n\u001b[0;32m---> <a href='vscode-notebook-cell:/home/edu/.python/dataharmonix/dataharmonix/notebooks/ipywidgets_demo.ipynb#W0sZmlsZQ%3D%3D?line=32'>33</a>\u001b[0m main_view\u001b[39m.\u001b[39;49madd_node_to_view(node)\n",
      "File \u001b[0;32m~/.python/dataharmonix/dataharmonix/ui/ipywidgets_ui/main_view.py:24\u001b[0m, in \u001b[0;36mMainView.add_node_to_view\u001b[0;34m(self, node)\u001b[0m\n\u001b[1;32m     23\u001b[0m \u001b[39mdef\u001b[39;00m \u001b[39madd_node_to_view\u001b[39m(\u001b[39mself\u001b[39m, node):\n\u001b[0;32m---> 24\u001b[0m     node_view \u001b[39m=\u001b[39m NodeView(node)\n\u001b[1;32m     25\u001b[0m     \u001b[39mself\u001b[39m\u001b[39m.\u001b[39mpipeline_view\u001b[39m.\u001b[39mclear_output()\n\u001b[1;32m     26\u001b[0m     \u001b[39mwith\u001b[39;00m \u001b[39mself\u001b[39m\u001b[39m.\u001b[39mpipeline_view:\n",
      "File \u001b[0;32m~/.python/dataharmonix/dataharmonix/ui/ipywidgets_ui/node_view.py:6\u001b[0m, in \u001b[0;36mNodeView.__init__\u001b[0;34m(self, node)\u001b[0m\n\u001b[1;32m      4\u001b[0m \u001b[39mdef\u001b[39;00m \u001b[39m__init__\u001b[39m(\u001b[39mself\u001b[39m, node):\n\u001b[1;32m      5\u001b[0m     \u001b[39mself\u001b[39m\u001b[39m.\u001b[39mnode \u001b[39m=\u001b[39m node\n\u001b[0;32m----> 6\u001b[0m     \u001b[39mself\u001b[39m\u001b[39m.\u001b[39mview \u001b[39m=\u001b[39m \u001b[39mself\u001b[39;49m\u001b[39m.\u001b[39;49mcreate_view()\n",
      "File \u001b[0;32m~/.python/dataharmonix/dataharmonix/ui/ipywidgets_ui/node_view.py:10\u001b[0m, in \u001b[0;36mNodeView.create_view\u001b[0;34m(self)\u001b[0m\n\u001b[1;32m      8\u001b[0m \u001b[39mdef\u001b[39;00m \u001b[39mcreate_view\u001b[39m(\u001b[39mself\u001b[39m):\n\u001b[1;32m      9\u001b[0m     \u001b[39m# Access properties of PipelineNode object\u001b[39;00m\n\u001b[0;32m---> 10\u001b[0m     node_id \u001b[39m=\u001b[39m widgets\u001b[39m.\u001b[39mLabel(value\u001b[39m=\u001b[39m\u001b[39mf\u001b[39m\u001b[39m\"\u001b[39m\u001b[39mNode: \u001b[39m\u001b[39m{\u001b[39;00m\u001b[39mself\u001b[39;49m\u001b[39m.\u001b[39;49mnode\u001b[39m.\u001b[39;49moperator_config[\u001b[39m'\u001b[39;49m\u001b[39mid\u001b[39;49m\u001b[39m'\u001b[39;49m]\u001b[39m}\u001b[39;00m\u001b[39m\"\u001b[39m)\n\u001b[1;32m     11\u001b[0m     name_label \u001b[39m=\u001b[39m widgets\u001b[39m.\u001b[39mLabel(value\u001b[39m=\u001b[39m\u001b[39mf\u001b[39m\u001b[39m\"\u001b[39m\u001b[39mNode: \u001b[39m\u001b[39m{\u001b[39;00m\u001b[39mself\u001b[39m\u001b[39m.\u001b[39mnode\u001b[39m.\u001b[39moperator_config[\u001b[39m'\u001b[39m\u001b[39mname\u001b[39m\u001b[39m'\u001b[39m]\u001b[39m}\u001b[39;00m\u001b[39m\"\u001b[39m)\n\u001b[1;32m     12\u001b[0m     parameters_view \u001b[39m=\u001b[39m \u001b[39mself\u001b[39m\u001b[39m.\u001b[39mcreate_parameters_view(\u001b[39mself\u001b[39m\u001b[39m.\u001b[39mnode\u001b[39m.\u001b[39moperator_config[\u001b[39m'\u001b[39m\u001b[39mparameters\u001b[39m\u001b[39m'\u001b[39m])\n",
      "\u001b[0;31mKeyError\u001b[0m: 'id'"
     ]
    }
   ],
   "source": [
    "import json\n",
    "import sys\n",
    "sys.path.append(\"..\")  # Adds the parent directory (dataharmonix/) to the Python path\n",
    "\n",
    "from dataharmonix.ui.ipywidgets_ui.main_view import MainView\n",
    "from dataharmonix.pipeline.pipeline import PipelineNode\n",
    "\n",
    "main_view = MainView()\n",
    "display(main_view.render())\n",
    "\n",
    "function_config = {\n",
    "    \"name\": \"ArithmeticAddOperation\",\n",
    "    \"description\": \"Adds a constant to data\",\n",
    "    \"operator_type\": \"function\",\n",
    "    \"callable\": \"dataharmonix.utils.arithmetic_operations.simple_add_function\",\n",
    "    \"is_statistical\": True,\n",
    "    \"input_type\": \"number\",\n",
    "    \"output_type\": \"number\",\n",
    "    \"parameters\": [\n",
    "        {\n",
    "            \"name\": \"constant\",\n",
    "            \"type\": \"float\",\n",
    "            \"description\": \"Constant to add\",\n",
    "            \"default\": 10.0,\n",
    "            \"required\": False\n",
    "        }\n",
    "    ],\n",
    "    \"dependencies\": []\n",
    "}\n",
    "\n",
    "node = PipelineNode(json.dumps(function_config), {\"constant\": 5.0})\n",
    "\n",
    "main_view.add_node_to_view(node)"
   ]
  },
  {
   "cell_type": "code",
   "execution_count": null,
   "metadata": {},
   "outputs": [],
   "source": []
  }
 ],
 "metadata": {
  "kernelspec": {
   "display_name": "dataharmonix",
   "language": "python",
   "name": "python3"
  },
  "language_info": {
   "codemirror_mode": {
    "name": "ipython",
    "version": 3
   },
   "file_extension": ".py",
   "mimetype": "text/x-python",
   "name": "python",
   "nbconvert_exporter": "python",
   "pygments_lexer": "ipython3",
   "version": "3.12.0"
  }
 },
 "nbformat": 4,
 "nbformat_minor": 2
}
