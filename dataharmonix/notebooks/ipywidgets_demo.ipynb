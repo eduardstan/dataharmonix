{
 "cells": [
  {
   "cell_type": "code",
   "execution_count": 1,
   "metadata": {},
   "outputs": [
    {
     "name": "stdout",
     "output_type": "stream",
     "text": [
      "{'O1': {'name': 'O1', 'description': 'Desc O1', 'operator_type': 'function', 'callable': 'dataharmonix.utils.dummy_operators.simple_add_function', 'is_statistical': False, 'input_type': 'number', 'output_type': 'number', 'parameters': [{'name': 'constant', 'type': 'float', 'description': 'Constant to add', 'default': 10.0, 'required': False}], 'dependencies': []}, 'O2': {'name': 'O2', 'description': 'Desc O2', 'operator_type': 'function', 'callable': 'dataharmonix.utils.dummy_operators.simple_add_function', 'is_statistical': False, 'input_type': 'number', 'output_type': 'number', 'parameters': [{'name': 'constant', 'type': 'float', 'description': 'Constant to add', 'default': 10.0, 'required': False}], 'dependencies': []}, 'S1': {'name': 'S1', 'description': 'Desc S2', 'operator_type': 'function', 'callable': 'dataharmonix.utils.dummy_operators.simple_mean_function', 'is_statistical': True, 'input_type': 'number', 'output_type': 'number', 'parameters': [], 'dependencies': []}, 'S2': {'name': 'S2', 'description': 'Desc S2', 'operator_type': 'function', 'callable': 'dataharmonix.utils.dummy_operators.not_so_simple_mean_function', 'is_statistical': True, 'input_type': 'number', 'output_type': 'number', 'parameters': [{'name': 'constant', 'type': 'float', 'description': 'Constant to multiply', 'default': 1.0, 'required': False}], 'dependencies': []}}\n"
     ]
    },
    {
     "data": {
      "application/vnd.jupyter.widget-view+json": {
       "model_id": "21973c18c3c54a2eb6a209bb43cc9a54",
       "version_major": 2,
       "version_minor": 0
      },
      "text/plain": [
       "VBox(children=(CytoscapeWidget(cytoscape_layout={'name': 'cola'}, cytoscape_style=[{'selector': 'node.normal',…"
      ]
     },
     "metadata": {},
     "output_type": "display_data"
    }
   ],
   "source": [
    "import json\n",
    "import sys\n",
    "sys.path.append(\"..\")  # Adds the parent directory (dataharmonix/) to the Python path\n",
    "\n",
    "from dataharmonix.ui.ipywidgets_ui.main_view import MainView\n",
    "from dataharmonix.pipeline.pipeline import PipelineNode, DataPipeline\n",
    "from dataharmonix.utils.dummy_operators import create_dummy_normal_operator, create_dummy_statistical_operator, create_dummy_statistical_operator_with_params\n",
    "\n",
    "from dataharmonix.utils.operator_registry import operator_registry\n",
    "\n",
    "o1_json = create_dummy_normal_operator(\"O1\", \"Desc O1\")\n",
    "o2_json = create_dummy_normal_operator(\"O2\", \"Desc O2\")\n",
    "s1_json = create_dummy_statistical_operator(\"S1\", \"Desc S1\")\n",
    "s2_json = create_dummy_statistical_operator_with_params(\"S2\", \"Desc S2\")\n",
    "\n",
    "operator_registry.register(json.dumps(o1_json))\n",
    "operator_registry.register(json.dumps(o2_json))\n",
    "operator_registry.register(json.dumps(s1_json))\n",
    "operator_registry.register(json.dumps(s2_json))\n",
    "\n",
    "print(operator_registry.operators)\n",
    "\n",
    "main_view = MainView(DataPipeline(None), operator_registry.operators)\n",
    "display(main_view.render())\n"
   ]
  },
  {
   "cell_type": "code",
   "execution_count": null,
   "metadata": {},
   "outputs": [],
   "source": []
  }
 ],
 "metadata": {
  "kernelspec": {
   "display_name": "dataharmonix",
   "language": "python",
   "name": "python3"
  },
  "language_info": {
   "codemirror_mode": {
    "name": "ipython",
    "version": 3
   },
   "file_extension": ".py",
   "mimetype": "text/x-python",
   "name": "python",
   "nbconvert_exporter": "python",
   "pygments_lexer": "ipython3",
   "version": "3.12.0"
  }
 },
 "nbformat": 4,
 "nbformat_minor": 2
}
