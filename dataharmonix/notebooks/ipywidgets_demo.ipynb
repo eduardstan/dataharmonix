{
 "cells": [
  {
   "cell_type": "code",
   "execution_count": 4,
   "metadata": {},
   "outputs": [
    {
     "name": "stdout",
     "output_type": "stream",
     "text": [
      "[Node(classes='normal', data={'id': 'b511e0cd-ea2f-4c3d-8fa3-92b80d9f28f0', 'label': 'O1'}, position={}), Node(classes='normal', data={'id': '987e463d-b090-48f3-810b-06ebe5be9d72', 'label': 'O2'}, position={}), Node(classes='statistical', data={'id': '7f9640c5-13c4-49bf-ad67-bc68d70175b8', 'label': 'S3'}, position={}), Node(classes='statistical', data={'id': '8c23de5e-a1a5-4724-b353-6ddccc9d9332', 'label': 'S4'}, position={}), Node(classes='statistical', data={'id': 'fe00f2d9-a285-4449-9416-95aa3531d7d3', 'label': 'S1'}, position={}), Node(classes='statistical', data={'id': 'a1635296-de73-4944-92e1-fb539bcaa1b6', 'label': 'S2'}, position={})]\n",
      "normal {'id': 'b511e0cd-ea2f-4c3d-8fa3-92b80d9f28f0', 'label': 'O1'}\n",
      "normal {'id': '987e463d-b090-48f3-810b-06ebe5be9d72', 'label': 'O2'}\n",
      "statistical {'id': '7f9640c5-13c4-49bf-ad67-bc68d70175b8', 'label': 'S3'}\n",
      "statistical {'id': '8c23de5e-a1a5-4724-b353-6ddccc9d9332', 'label': 'S4'}\n",
      "statistical {'id': 'fe00f2d9-a285-4449-9416-95aa3531d7d3', 'label': 'S1'}\n",
      "statistical {'id': 'a1635296-de73-4944-92e1-fb539bcaa1b6', 'label': 'S2'}\n"
     ]
    },
    {
     "data": {
      "application/vnd.jupyter.widget-view+json": {
       "model_id": "61e3bf23479445c18e41535e809a4ab0",
       "version_major": 2,
       "version_minor": 0
      },
      "text/plain": [
       "CytoscapeWidget(cytoscape_layout={'name': 'cola'}, cytoscape_style=[{'selector': 'node.normal', 'style': {'bac…"
      ]
     },
     "metadata": {},
     "output_type": "display_data"
    }
   ],
   "source": [
    "import json\n",
    "import sys\n",
    "sys.path.append(\"..\")  # Adds the parent directory (dataharmonix/) to the Python path\n",
    "\n",
    "from dataharmonix.ui.ipywidgets_ui.main_view import MainView\n",
    "from dataharmonix.pipeline.pipeline import PipelineNode, DataPipeline\n",
    "from dataharmonix.utils.dummy_operators import create_dummy_normal_operator, create_dummy_statistical_operator\n",
    "\n",
    "o1 = PipelineNode(json.dumps(create_dummy_normal_operator(\"O1\", \"Desc O1\")), {\"constant\": 2.0})\n",
    "o2 = PipelineNode(json.dumps(create_dummy_normal_operator(\"O2\", \"Desc O2\")), {\"constant\": 100.0})\n",
    "\n",
    "s1 = PipelineNode(json.dumps(create_dummy_statistical_operator(\"S1\", \"Desc S1\")), {})\n",
    "s2 = PipelineNode(json.dumps(create_dummy_statistical_operator(\"S2\", \"Desc S2\")), {})\n",
    "s3 = PipelineNode(json.dumps(create_dummy_statistical_operator(\"S3\", \"Desc S3\")), {})\n",
    "s4 = PipelineNode(json.dumps(create_dummy_statistical_operator(\"S4\", \"Desc S4\")), {})\n",
    "\n",
    "o1.add_node(s1)\n",
    "o1.add_node(s2)\n",
    "o1.add_node(o2)\n",
    "\n",
    "o2.add_node(s3)\n",
    "o2.add_node(s4)\n",
    "\n",
    "data_pipeline = DataPipeline(o1)\n",
    "\n",
    "print(data_pipeline.get_nodes())\n",
    "\n",
    "main_view = MainView(data_pipeline)\n",
    "display(main_view.render())\n"
   ]
  },
  {
   "cell_type": "code",
   "execution_count": null,
   "metadata": {},
   "outputs": [],
   "source": []
  }
 ],
 "metadata": {
  "kernelspec": {
   "display_name": "dataharmonix",
   "language": "python",
   "name": "python3"
  },
  "language_info": {
   "codemirror_mode": {
    "name": "ipython",
    "version": 3
   },
   "file_extension": ".py",
   "mimetype": "text/x-python",
   "name": "python",
   "nbconvert_exporter": "python",
   "pygments_lexer": "ipython3",
   "version": "3.12.0"
  }
 },
 "nbformat": 4,
 "nbformat_minor": 2
}
